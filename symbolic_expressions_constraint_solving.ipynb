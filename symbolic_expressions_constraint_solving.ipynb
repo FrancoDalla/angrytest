{
 "cells": [
  {
   "cell_type": "markdown",
   "id": "956869b5-287e-42ba-a3fc-a329f18627fd",
   "metadata": {},
   "source": [
    "<h1>Working with bitvectors</h1>"
   ]
  },
  {
   "cell_type": "code",
   "execution_count": 4,
   "id": "1e1e0049-e9ee-4c19-967f-be80ce241538",
   "metadata": {},
   "outputs": [],
   "source": [
    "import angr, monkeyhex, claripy\n",
    "proj = angr.Project('/bin/true')\n",
    "state = proj.factory.entry_state()"
   ]
  },
  {
   "cell_type": "code",
   "execution_count": 7,
   "id": "9491c7a3-58da-4564-b8ab-a1258fc0be66",
   "metadata": {},
   "outputs": [
    {
     "data": {
      "text/plain": [
       "<BV27 0x9>"
      ]
     },
     "execution_count": 7,
     "metadata": {},
     "output_type": "execute_result"
    }
   ],
   "source": [
    "\"\"\" \n",
    "Los bitvector son secuencias de bits interpretadas\n",
    "\"\"\"\n",
    "\n",
    "one = claripy.BVV(1,64)\n",
    "one_hundred = claripy.BVV(100,64)\n",
    "one_hundred\n",
    "\n",
    "weird_nine = claripy.BVV(9, 27)\n",
    "weird_nine"
   ]
  },
  {
   "cell_type": "code",
   "execution_count": 10,
   "id": "218b59ba-865e-42cb-8d7d-ac95e76d3487",
   "metadata": {},
   "outputs": [
    {
     "data": {
      "text/plain": [
       "<BV64 0xfffffffffffff894>"
      ]
     },
     "execution_count": 10,
     "metadata": {},
     "output_type": "execute_result"
    }
   ],
   "source": [
    "one + one_hundred\n",
    "\n",
    "one_hundred - one * 2000 "
   ]
  },
  {
   "cell_type": "code",
   "execution_count": 11,
   "id": "6c41d6d5-53f8-4eae-92f4-5d038747fa80",
   "metadata": {},
   "outputs": [
    {
     "data": {
      "text/plain": [
       "0x3333333333333381"
      ]
     },
     "execution_count": 11,
     "metadata": {},
     "output_type": "execute_result"
    }
   ],
   "source": [
    "state = proj.factory.entry_state()\n",
    "input = claripy.BVS('input', 64)\n",
    "operation = (((input + 4) * 3) >> 1) + input\n",
    "output = 200\n",
    "state.solver.add(operation == output)\n",
    "state.solver.eval(input)"
   ]
  },
  {
   "cell_type": "code",
   "execution_count": 12,
   "id": "e0eab75c-11d0-4ab9-8d4f-ec184e2ad6b7",
   "metadata": {},
   "outputs": [
    {
     "data": {
      "text/plain": [
       "False"
      ]
     },
     "execution_count": 12,
     "metadata": {},
     "output_type": "execute_result"
    }
   ],
   "source": [
    "state.solver.add(input < 2 **32)\n",
    "state.satisfiable()"
   ]
  },
  {
   "cell_type": "code",
   "execution_count": 16,
   "id": "cf3fcbbb-3a96-4a5d-b6d4-fda2d84a75a4",
   "metadata": {},
   "outputs": [
    {
     "data": {
      "text/plain": [
       "0x2"
      ]
     },
     "execution_count": 16,
     "metadata": {},
     "output_type": "execute_result"
    }
   ],
   "source": [
    "x = claripy.BVS(\"x\", 64)\n",
    "y = claripy.BVS(\"y\", 64)\n",
    "state = proj.factory.entry_state()\n",
    "state.solver.add(x - y >= 4)\n",
    "state.solver.add(y > 0)\n",
    "state.solver.eval(x)\n",
    "state.solver.eval(y)\n",
    "state.solver.eval(x + y)\n"
   ]
  },
  {
   "cell_type": "markdown",
   "id": "84b40852-bd76-4b1b-be66-d603ef2e40c0",
   "metadata": {},
   "source": [
    "<h1>Números en punto flotante</h1>"
   ]
  },
  {
   "cell_type": "code",
   "execution_count": 20,
   "id": "e2560638-25aa-4080-a1a4-1e16ce1ca770",
   "metadata": {},
   "outputs": [
    {
     "name": "stdout",
     "output_type": "stream",
     "text": [
      "<FP64 FPV(3.2, DOUBLE)>\n",
      "@@@@@@\n",
      "<FP64 FPS(FP_b_105_64, DOUBLE)>\n",
      "@@@@@@\n",
      "<FP64 fpAdd(RM.RM_NearestTiesEven, FPV(3.2, DOUBLE), FPS(FP_b_105_64, DOUBLE))>\n",
      "@@@@@@\n",
      "<FP64 FPV(7.6000000000000005, DOUBLE)>\n",
      "@@@@@@\n",
      "<Bool fpLT(fpAdd(RM.RM_NearestTiesEven, FPS(FP_b_105_64, DOUBLE), FPV(2.0, DOUBLE)), FPV(0.0, DOUBLE))>\n"
     ]
    }
   ],
   "source": [
    "\"\"\" \n",
    "z3 tiene soporte para números en punto flotante IEEE754\n",
    "\"\"\"\n",
    "\n",
    "#fresh state\n",
    "state = proj.factory.entry_state()\n",
    "a = claripy.FPV(3.2, claripy.fp.FSORT_DOUBLE)\n",
    "print(a)\n",
    "print(\"@@@@@@\")\n",
    "\n",
    "b = claripy.FPS('b', claripy.fp.FSORT_DOUBLE)\n",
    "print(b)\n",
    "print(\"@@@@@@\")\n",
    "\n",
    "print(a+b)\n",
    "print(\"@@@@@@\")\n",
    "\n",
    "print(a + 4.4)\n",
    "print(\"@@@@@@\")\n",
    "print(b+2 <0) "
   ]
  },
  {
   "cell_type": "code",
   "execution_count": 22,
   "id": "f4886d3b-4556-4147-a74f-e67e4cd2a341",
   "metadata": {},
   "outputs": [
    {
     "data": {
      "text/plain": [
       "-2.0000000000000377"
      ]
     },
     "execution_count": 22,
     "metadata": {},
     "output_type": "execute_result"
    }
   ],
   "source": [
    "state.solver.add(b + 2 <0)\n",
    "state.solver.add(b + 2 > -1) \n",
    "state.solver.eval(b)"
   ]
  },
  {
   "cell_type": "code",
   "execution_count": 24,
   "id": "1bd903e4-0465-4928-aaed-476056188852",
   "metadata": {},
   "outputs": [
    {
     "data": {
      "text/plain": [
       "<BV64 fpToIEEEBV(FPS(FP_b_105_64, DOUBLE))>"
      ]
     },
     "execution_count": 24,
     "metadata": {},
     "output_type": "execute_result"
    }
   ],
   "source": [
    "a.raw_to_bv()\n",
    "b.raw_to_bv()\n"
   ]
  },
  {
   "cell_type": "code",
   "execution_count": null,
   "id": "50808ecd-9213-4d51-bc1a-129ac7dd5ca3",
   "metadata": {},
   "outputs": [],
   "source": []
  }
 ],
 "metadata": {
  "kernelspec": {
   "display_name": "Python 3 (ipykernel)",
   "language": "python",
   "name": "python3"
  },
  "language_info": {
   "codemirror_mode": {
    "name": "ipython",
    "version": 3
   },
   "file_extension": ".py",
   "mimetype": "text/x-python",
   "name": "python",
   "nbconvert_exporter": "python",
   "pygments_lexer": "ipython3",
   "version": "3.12.6"
  }
 },
 "nbformat": 4,
 "nbformat_minor": 5
}
