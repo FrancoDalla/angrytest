{
 "cells": [
  {
   "cell_type": "code",
   "execution_count": 4,
   "id": "9452a7a0-5823-4828-910a-39444420ea1e",
   "metadata": {},
   "outputs": [],
   "source": [
    "import angr\n",
    "proj = angr.Project('/bin/true')"
   ]
  },
  {
   "cell_type": "code",
   "execution_count": 9,
   "id": "5f80bb23-5092-4b48-8b11-60028d77c8b0",
   "metadata": {},
   "outputs": [],
   "source": [
    "import IPython\n",
    "py = IPython.get_ipython()\n",
    "py.Completer.use_jedi = False"
   ]
  },
  {
   "cell_type": "code",
   "execution_count": 16,
   "id": "e79153f6-c970-474b-8ccd-b1d535313d46",
   "metadata": {},
   "outputs": [
    {
     "name": "stdout",
     "output_type": "stream",
     "text": [
      "<Arch AMD64 (LE)>\n",
      "4204512\n",
      "/bin/true\n"
     ]
    }
   ],
   "source": [
    "import monkeyhex\n",
    "print(proj.arch)\n",
    "print(proj.entry)\n",
    "print(proj.filename)"
   ]
  },
  {
   "cell_type": "code",
   "execution_count": 19,
   "id": "bb5cf7f5-66a1-48fa-bef8-8b70764634dc",
   "metadata": {},
   "outputs": [
    {
     "data": {
      "text/plain": [
       "<Loaded true, maps [0x400000:0xa07fff]>"
      ]
     },
     "execution_count": 19,
     "metadata": {},
     "output_type": "execute_result"
    }
   ],
   "source": [
    "proj.loader\n"
   ]
  },
  {
   "cell_type": "code",
   "execution_count": 20,
   "id": "2433914b-1aef-4deb-a0fd-0d40c6dfe043",
   "metadata": {},
   "outputs": [
    {
     "data": {
      "text/plain": [
       "OrderedDict([('true', <ELF Object true, maps [0x400000:0x40a23f]>),\n",
       "             ('libc.so.6', <ELF Object libc.so.6, maps [0x500000:0x6f5e77]>),\n",
       "             ('ld-linux-x86-64.so.2',\n",
       "              <ELF Object ld-linux-x86-64.so.2, maps [0x700000:0x73730f]>),\n",
       "             ('extern-address space',\n",
       "              <ExternObject Object cle##externs, maps [0x800000:0x87ffff]>),\n",
       "             ('cle##tls',\n",
       "              <ELFTLSObjectV2 Object cle##tls, maps [0x900000:0x91500f]>)])"
      ]
     },
     "execution_count": 20,
     "metadata": {},
     "output_type": "execute_result"
    }
   ],
   "source": [
    "proj.loader.shared_objects"
   ]
  },
  {
   "cell_type": "code",
   "execution_count": 21,
   "id": "10d32536-4884-4377-9a83-0c6271aeea59",
   "metadata": {},
   "outputs": [
    {
     "data": {
      "text/plain": [
       "0x400000"
      ]
     },
     "execution_count": 21,
     "metadata": {},
     "output_type": "execute_result"
    }
   ],
   "source": [
    "proj.loader.min_addr"
   ]
  },
  {
   "cell_type": "code",
   "execution_count": 22,
   "id": "46c8f1e5-de8b-4ea4-b98a-eebf08388c0f",
   "metadata": {},
   "outputs": [
    {
     "data": {
      "text/plain": [
       "0xa07fff"
      ]
     },
     "execution_count": 22,
     "metadata": {},
     "output_type": "execute_result"
    }
   ],
   "source": [
    "proj.loader.max_addr"
   ]
  },
  {
   "cell_type": "code",
   "execution_count": 24,
   "id": "7f3fe607-5b7b-4ff9-bd13-f9ec569ac26a",
   "metadata": {},
   "outputs": [
    {
     "data": {
      "text/plain": [
       "<ELF Object true, maps [0x400000:0x40a23f]>"
      ]
     },
     "execution_count": 24,
     "metadata": {},
     "output_type": "execute_result"
    }
   ],
   "source": [
    "proj.loader.main_object"
   ]
  },
  {
   "cell_type": "code",
   "execution_count": 25,
   "id": "60b88e42-c868-4078-8f19-28dc3b1d9d7a",
   "metadata": {},
   "outputs": [
    {
     "data": {
      "text/plain": [
       "False"
      ]
     },
     "execution_count": 25,
     "metadata": {},
     "output_type": "execute_result"
    }
   ],
   "source": [
    "proj.loader.main_object.execstack"
   ]
  },
  {
   "cell_type": "code",
   "execution_count": 26,
   "id": "56e61407-d851-4e20-8606-6d76c74ce859",
   "metadata": {},
   "outputs": [
    {
     "data": {
      "text/plain": [
       "True"
      ]
     },
     "execution_count": 26,
     "metadata": {},
     "output_type": "execute_result"
    }
   ],
   "source": [
    "proj.loader.main_object.pic"
   ]
  },
  {
   "cell_type": "code",
   "execution_count": 33,
   "id": "728bc0e2-478a-45be-9805-7942cb0f7e3f",
   "metadata": {},
   "outputs": [
    {
     "name": "stdout",
     "output_type": "stream",
     "text": [
      "        _start:\n",
      "4027e0  xor     ebp, ebp\n",
      "4027e2  mov     r9, rdx\n",
      "4027e5  pop     rsi\n",
      "4027e6  mov     rdx, rsp\n",
      "4027e9  and     rsp, 0xfffffffffffffff0\n",
      "4027ed  push    rax\n",
      "4027ee  push    rsp\n",
      "4027ef  xor     r8d, r8d\n",
      "4027f2  xor     ecx, ecx\n",
      "4027f4  lea     rdi, [0x402710]\n",
      "4027fb  call    qword ptr [0x409fc0]\n",
      "////\n"
     ]
    },
    {
     "data": {
      "text/plain": [
       "(0x4027e0,\n",
       " 0x4027e2,\n",
       " 0x4027e5,\n",
       " 0x4027e6,\n",
       " 0x4027e9,\n",
       " 0x4027ed,\n",
       " 0x4027ee,\n",
       " 0x4027ef,\n",
       " 0x4027f2,\n",
       " 0x4027f4,\n",
       " 0x4027fb)"
      ]
     },
     "execution_count": 33,
     "metadata": {},
     "output_type": "execute_result"
    }
   ],
   "source": [
    "\"\"\"\n",
    "Se tiene project.factory.block() que sirve para extraer un bloque de código. Angr analiza codigo en unidades de bloques basicos\n",
    "\"\"\"\n",
    "\n",
    "block = proj.factory.block(proj.entry)\n",
    "block.pp()\n",
    "print(\"////\")\n",
    "block.instructions\n",
    "block.instruction_addrs\n"
   ]
  },
  {
   "cell_type": "code",
   "execution_count": 37,
   "id": "a93ea550-9758-44ef-9a3f-3230eb355d0f",
   "metadata": {},
   "outputs": [
    {
     "data": {
      "text/plain": [
       "IRSB <0x21 bytes, 11 ins., <Arch AMD64 (LE)>> at 0x4027e0"
      ]
     },
     "execution_count": 37,
     "metadata": {},
     "output_type": "execute_result"
    }
   ],
   "source": [
    "\"\"\"\n",
    "Tambien se puede usar un objeto bloque para obtener otra representacion de un bloque de codigo \n",
    "\"\"\"\n",
    "\n",
    "block.capstone\n",
    "block.vex"
   ]
  },
  {
   "cell_type": "markdown",
   "id": "50d4c5ee-b99f-4e74-8f5e-a457a5a3435e",
   "metadata": {
    "jp-MarkdownHeadingCollapsed": true
   },
   "source": [
    "<h1>States</h1>"
   ]
  },
  {
   "cell_type": "code",
   "execution_count": 40,
   "id": "c1a949b7-d337-493e-9859-b6315b7e5a9a",
   "metadata": {},
   "outputs": [
    {
     "data": {
      "text/plain": [
       "<SimState @ 0x4027e0>"
      ]
     },
     "execution_count": 40,
     "metadata": {},
     "output_type": "execute_result"
    }
   ],
   "source": [
    "\"\"\"\n",
    "El objecto Project solo representa una imagen inicializada del programa.\n",
    "Cuando se realiza una ejecución con angr, se esta trabajando con un objeto especifico\n",
    "que esta representando un estado de programa simulado. Un SimState\n",
    "\"\"\"\n",
    "\n",
    "state = proj.factory.entry_state()\n",
    "state"
   ]
  },
  {
   "cell_type": "code",
   "execution_count": 56,
   "id": "ed4be6c7-1825-4306-9d29-5162e46abbdb",
   "metadata": {
    "scrolled": true
   },
   "outputs": [
    {
     "name": "stdout",
     "output_type": "stream",
     "text": [
      "<BV64 0x1c>\n",
      "<BV64 0x1c>\n",
      "<BV32 0x8949ed31>\n"
     ]
    }
   ],
   "source": [
    "\"\"\" \n",
    "Estos contienen la memoria, registros, datos de file system y cualquier \"información viva\"\n",
    "de un programa que pueda ser cambiada por la ejecución.\n",
    "\"\"\"\n",
    "\n",
    "print(state.regs.rax)\n",
    "print(state.regs.rax)\n",
    "print(state.mem[proj.entry].int.resolved)"
   ]
  },
  {
   "cell_type": "code",
   "execution_count": 51,
   "id": "f8a4075f-570c-4cc2-9078-192b09399361",
   "metadata": {},
   "outputs": [
    {
     "name": "stdout",
     "output_type": "stream",
     "text": [
      "<BV32 0x1234>\n",
      "32\n"
     ]
    },
    {
     "data": {
      "text/plain": [
       "0x1234"
      ]
     },
     "execution_count": 51,
     "metadata": {},
     "output_type": "execute_result"
    }
   ],
   "source": [
    "\"\"\"\n",
    "Estos valores mostrados no son enteros de Python. estos son \"bitvectors\"\n",
    "los integer de python no tienen la misma semantica que los words de un CPU.\n",
    "hay que tener en cuenta esto para manejar información de CPU utilizando angr.\n",
    "\n",
    "\"\"\"\n",
    "\n",
    "import claripy\n",
    "bv = claripy.BVV(0x1234, 32) #Se crea un bitvector, de 32-bit con valor 0x1234\n",
    "print(bv)\n",
    "print(bv.length) #Notar que los bitvector tienen el atributo length, que especifican de cuantos bits son.\n",
    "state.solver.eval(bv) #Se convierte el valor a un entero de python."
   ]
  },
  {
   "cell_type": "code",
   "execution_count": 60,
   "id": "c0507b7e-2347-4660-9e69-a1ef27e15515",
   "metadata": {},
   "outputs": [
    {
     "data": {
      "text/plain": [
       "<BV64 0x4>"
      ]
     },
     "execution_count": 60,
     "metadata": {},
     "output_type": "execute_result"
    }
   ],
   "source": [
    "state.regs.rsi = claripy.BVV(3, 64)\n",
    "state.regs.rsi\n",
    "\n",
    "state.mem[0x1000].long = 4\n",
    "state.mem[0x1000].long.resolved"
   ]
  },
  {
   "cell_type": "code",
   "execution_count": 59,
   "id": "d644b540-cfd0-43fc-9126-0d4277f04925",
   "metadata": {},
   "outputs": [
    {
     "name": "stdout",
     "output_type": "stream",
     "text": [
      "<BV64 0x1>\n"
     ]
    }
   ],
   "source": [
    "print(state.regs.rdi)"
   ]
  },
  {
   "cell_type": "markdown",
   "id": "d1f9b125-5f84-4d69-a18c-0c25a415ab49",
   "metadata": {},
   "source": [
    "<h1>Simulation Managers</h1>"
   ]
  },
  {
   "cell_type": "code",
   "execution_count": 63,
   "id": "c13a0830-98fc-4ae4-9d51-18f5af97465d",
   "metadata": {},
   "outputs": [
    {
     "name": "stdout",
     "output_type": "stream",
     "text": [
      "<SimulationManager with 1 active>\n"
     ]
    },
    {
     "data": {
      "text/plain": [
       "[<SimState @ 0x4027e0>]"
      ]
     },
     "execution_count": 63,
     "metadata": {},
     "output_type": "execute_result"
    }
   ],
   "source": [
    "\"\"\"\n",
    "Si un estado representa un programa en un punto dado de tiempo. \n",
    "Tiene queh aber un modo de conseguir el siguiente punto de tiempo de la ejecución.\n",
    "Los manejadores de simulación son la interfaz primaria en angr para realizar la ejecución o simulación.\n",
    "\"\"\"\n",
    "\n",
    "simgr = proj.factory.simulation_manager(state)\n",
    "print(simgr)\n",
    "simgr.active"
   ]
  },
  {
   "cell_type": "code",
   "execution_count": 64,
   "id": "804808d5-67fa-48ea-ae0d-9c06ba4bc464",
   "metadata": {},
   "outputs": [
    {
     "data": {
      "text/plain": [
       "<SimulationManager with 1 active>"
      ]
     },
     "execution_count": 64,
     "metadata": {},
     "output_type": "execute_result"
    }
   ],
   "source": [
    "\"\"\" \n",
    "Un manejador de simulación puede tener varios \"stashes\" de estados. el stash por defecto es active,\n",
    "esto es inicializado. \n",
    "\"\"\"\n",
    "\n",
    "simgr.step()"
   ]
  },
  {
   "cell_type": "code",
   "execution_count": 68,
   "id": "141ad3e2-db03-4557-82c2-b3718d19c77f",
   "metadata": {},
   "outputs": [
    {
     "name": "stdout",
     "output_type": "stream",
     "text": [
      "[<SimState @ 0x529ce0>]\n",
      "<BV64 0x529ce0>\n",
      "<BV64 0x4027e0>\n"
     ]
    }
   ],
   "source": [
    "\"\"\"\n",
    "Ahora tenemos un bloque basico con una ejecución simbolica. Podemos ver el stash activo y darnos cuenta \n",
    "de la actualización y más cosas. \n",
    "\"\"\"\n",
    "\n",
    "print(simgr.active)\n",
    "print(simgr.active[0].regs.rip)\n",
    "print(state.regs.rip)"
   ]
  },
  {
   "cell_type": "markdown",
   "id": "72ea83b6-0881-4052-a1cd-9d106fc3a02f",
   "metadata": {},
   "source": [
    "<h1>Analyses</h1>"
   ]
  },
  {
   "cell_type": "code",
   "execution_count": null,
   "id": "1974dd57-4c85-469d-831c-7c56d5b7b924",
   "metadata": {},
   "outputs": [],
   "source": [
    "\"\"\" \n",
    "Angr viene incluido con muchos analizadores que pueden ser sados para extraer información\n",
    "de programas\n",
    "\"\"\"\n",
    "\n",
    "proj.analyses.            # Press TAB here in ipython to get an autocomplete-listing of everything:\n",
    " proj.analyses.BackwardSlice        proj.analyses.CongruencyCheck      proj.analyses.reload_analyses\n",
    " proj.analyses.BinaryOptimizer      proj.analyses.DDG                  proj.analyses.StaticHooker\n",
    " proj.analyses.BinDiff              proj.analyses.DFG                  proj.analyses.VariableRecovery\n",
    " proj.analyses.BoyScout             proj.analyses.Disassembly          proj.analyses.VariableRecoveryFast\n",
    " proj.analyses.CDG                  proj.analyses.GirlScout            proj.analyses.Veritesting\n",
    " proj.analyses.CFG                  proj.analyses.Identifier           proj.analyses.VFG\n",
    " proj.analyses.CFGEmulated          proj.analyses.LoopFinder           proj.analyses.VSA_DDG\n",
    " proj.analyses.CFGFast              proj.analyses.Reassembler\n"
   ]
  },
  {
   "cell_type": "code",
   "execution_count": 74,
   "id": "384ea309-d7f9-4505-b45e-21e0f6ba5665",
   "metadata": {},
   "outputs": [
    {
     "name": "stdout",
     "output_type": "stream",
     "text": [
      "<CFGFast Analysis Result at 0x7f39200aa750>\n",
      "DiGraph with 1361 nodes and 2169 edges\n"
     ]
    },
    {
     "data": {
      "text/plain": [
       "0x1"
      ]
     },
     "execution_count": 74,
     "metadata": {},
     "output_type": "execute_result"
    }
   ],
   "source": [
    "proj = angr.Project('/bin/true', auto_load_libs=False)\n",
    "cfg = proj.analyses.CFGFast()\n",
    "print(cfg)\n",
    "print(cfg.graph)\n",
    "\n",
    "entry_node = cfg.model.get_any_node(proj.entry)\n",
    "len(list(cfg.graph.successors(entry_node)))"
   ]
  },
  {
   "cell_type": "code",
   "execution_count": null,
   "id": "1ac1189a-dd2d-401e-9044-b65bf9ed7f4a",
   "metadata": {},
   "outputs": [],
   "source": []
  }
 ],
 "metadata": {
  "kernelspec": {
   "display_name": "Python 3 (ipykernel)",
   "language": "python",
   "name": "python3"
  },
  "language_info": {
   "codemirror_mode": {
    "name": "ipython",
    "version": 3
   },
   "file_extension": ".py",
   "mimetype": "text/x-python",
   "name": "python",
   "nbconvert_exporter": "python",
   "pygments_lexer": "ipython3",
   "version": "3.12.6"
  }
 },
 "nbformat": 4,
 "nbformat_minor": 5
}
