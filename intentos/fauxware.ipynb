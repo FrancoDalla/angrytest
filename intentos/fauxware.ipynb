{
 "cells": [
  {
   "cell_type": "code",
   "execution_count": 2,
   "id": "03de0d7c-f820-47ad-95e8-54f0bdd94bf5",
   "metadata": {},
   "outputs": [
    {
     "name": "stderr",
     "output_type": "stream",
     "text": [
      "WARNING  | 2025-07-29 20:39:34,789 | angr.storage.memory_mixins.default_filler_mixin | The program is accessing memory with an unspecified value. This could indicate unwanted behavior.\n",
      "WARNING  | 2025-07-29 20:39:34,791 | angr.storage.memory_mixins.default_filler_mixin | angr will cope with this by generating an unconstrained symbolic variable and continuing. You can resolve this by:\n",
      "WARNING  | 2025-07-29 20:39:34,794 | angr.storage.memory_mixins.default_filler_mixin | 1) setting a value to the initial state\n",
      "WARNING  | 2025-07-29 20:39:34,797 | angr.storage.memory_mixins.default_filler_mixin | 2) adding the state option ZERO_FILL_UNCONSTRAINED_{MEMORY,REGISTERS}, to make unknown regions hold null\n",
      "WARNING  | 2025-07-29 20:39:34,799 | angr.storage.memory_mixins.default_filler_mixin | 3) adding the state option SYMBOL_FILL_UNCONSTRAINED_{MEMORY,REGISTERS}, to suppress these messages.\n",
      "WARNING  | 2025-07-29 20:39:34,994 | angr.storage.memory_mixins.default_filler_mixin | Filling memory at 0x7fffffffffeff60 with 8 unconstrained bytes referenced from 0x700020 (strcmp+0x0 in extern-address space (0x20))\n"
     ]
    },
    {
     "ename": "SyntaxError",
     "evalue": "'return' outside function (2117026385.py, line 26)",
     "output_type": "error",
     "traceback": [
      "  \u001b[36mCell\u001b[39m\u001b[36m \u001b[39m\u001b[32mIn[2]\u001b[39m\u001b[32m, line 26\u001b[39m\n\u001b[31m    \u001b[39m\u001b[31mreturn input_0\u001b[39m\n    ^\n\u001b[31mSyntaxError\u001b[39m\u001b[31m:\u001b[39m 'return' outside function\n"
     ]
    }
   ],
   "source": [
    "\"\"\"\n",
    "Basado en la documentacion. Este codigo esta hecho para mostrar como \n",
    "utilizar angr basicamente\n",
    "\"\"\"\n",
    "import angr\n",
    "import sys\n",
    "\n",
    "#Se crea el proyecto con el binario.\n",
    "p = angr.Project('../examples/fauxware/fauxware', auto_load_libs=False)\n",
    "\n",
    "#Se crea una representacion simbolica del estado del programa.\n",
    "#Esta es la forma en que angr maneja la ejecucion simbolica de codigo binario\n",
    "state = p.factory.entry_state()\n",
    "\n",
    "#Ahora, para manejar el proceso de ejecucion simbolica. Hacemos este manejador\n",
    "#Este manejador es solo una coleccion de estados \n",
    "sm = p.factory.simulation_manager(state)\n",
    "\n",
    "#Aca comienza la ejecucion. Esta se hace hasta que \n",
    "sm.run(until=lambda sm_: len(sm_.active) > 1)\n",
    "\n",
    "input_0 = sm.active[0].posix.dumps(0)\n",
    "input_1 = sm.active[1].posix.dumps(0)\n",
    "\n",
    "if b'SOSNEAKY' in input_0:\n",
    "    print(input_0)\n",
    "else:\n",
    "    print(input_1\n",
    "    "
   ]
  },
  {
   "cell_type": "code",
   "execution_count": null,
   "id": "033ce536-c349-4657-aaa6-5538db2fd931",
   "metadata": {},
   "outputs": [],
   "source": []
  }
 ],
 "metadata": {
  "kernelspec": {
   "display_name": "Python 3 (ipykernel)",
   "language": "python",
   "name": "python3"
  },
  "language_info": {
   "codemirror_mode": {
    "name": "ipython",
    "version": 3
   },
   "file_extension": ".py",
   "mimetype": "text/x-python",
   "name": "python",
   "nbconvert_exporter": "python",
   "pygments_lexer": "ipython3",
   "version": "3.12.6"
  }
 },
 "nbformat": 4,
 "nbformat_minor": 5
}
