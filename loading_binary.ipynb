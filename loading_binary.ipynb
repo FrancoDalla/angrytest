{
 "cells": [
  {
   "cell_type": "code",
   "execution_count": 76,
   "id": "af567f10-9c9f-4346-a124-633962505032",
   "metadata": {},
   "outputs": [
    {
     "data": {
      "text/plain": [
       "<Loaded fauxware, maps [0x400000:0xc07fff]>"
      ]
     },
     "execution_count": 76,
     "metadata": {},
     "output_type": "execute_result"
    }
   ],
   "source": [
    "import angr, monkeyhex\n",
    "\n",
    "proj = angr.Project('examples/fauxware/fauxware')\n",
    "proj.loader"
   ]
  },
  {
   "cell_type": "code",
   "execution_count": null,
   "id": "6738a09f-5b08-4a52-b499-372d50063ade",
   "metadata": {},
   "outputs": [],
   "source": []
  }
 ],
 "metadata": {
  "kernelspec": {
   "display_name": "Python 3 (ipykernel)",
   "language": "python",
   "name": "python3"
  },
  "language_info": {
   "codemirror_mode": {
    "name": "ipython",
    "version": 3
   },
   "file_extension": ".py",
   "mimetype": "text/x-python",
   "name": "python",
   "nbconvert_exporter": "python",
   "pygments_lexer": "ipython3",
   "version": "3.12.6"
  }
 },
 "nbformat": 4,
 "nbformat_minor": 5
}
