{
 "cells": [
  {
   "cell_type": "code",
   "execution_count": 76,
   "id": "af567f10-9c9f-4346-a124-633962505032",
   "metadata": {},
   "outputs": [
    {
     "data": {
      "text/plain": [
       "<Loaded fauxware, maps [0x400000:0xc07fff]>"
      ]
     },
     "execution_count": 76,
     "metadata": {},
     "output_type": "execute_result"
    }
   ],
   "source": [
    "import angr, monkeyhex\n",
    "\n",
    "proj = angr.Project('examples/fauxware/fauxware')\n",
    "proj.loader"
   ]
  },
  {
   "cell_type": "code",
   "execution_count": 88,
   "id": "6738a09f-5b08-4a52-b499-372d50063ade",
   "metadata": {},
   "outputs": [
    {
     "name": "stdout",
     "output_type": "stream",
     "text": [
      "[<ELF Object fauxware, maps [0x400000:0x60105f]>, <ELF Object libc.so.6, maps [0x700000:0x8f5e77]>, <ELF Object ld-linux-x86-64.so.2, maps [0x900000:0x93730f]>, <ExternObject Object cle##externs, maps [0xa00000:0xa7ffff]>, <ELFTLSObjectV2 Object cle##tls, maps [0xb00000:0xb1500f]>, <KernelObject Object cle##kernel, maps [0xc00000:0xc07fff]>]\n",
      "//////\n",
      "<ELF Object fauxware, maps [0x400000:0x60105f]>\n",
      "//////\n",
      "OrderedDict({'fauxware': <ELF Object fauxware, maps [0x400000:0x60105f]>, 'libc.so.6': <ELF Object libc.so.6, maps [0x700000:0x8f5e77]>, 'ld-linux-x86-64.so.2': <ELF Object ld-linux-x86-64.so.2, maps [0x900000:0x93730f]>, 'extern-address space': <ExternObject Object cle##externs, maps [0xa00000:0xa7ffff]>, 'cle##tls': <ELFTLSObjectV2 Object cle##tls, maps [0xb00000:0xb1500f]>})\n",
      "//////\n",
      "[<ELF Object fauxware, maps [0x400000:0x60105f]>, <ELF Object libc.so.6, maps [0x700000:0x8f5e77]>, <ELF Object ld-linux-x86-64.so.2, maps [0x900000:0x93730f]>]\n",
      "//////\n",
      "<ExternObject Object cle##externs, maps [0xa00000:0xa7ffff]>\n",
      "//////\n",
      "<KernelObject Object cle##kernel, maps [0xc00000:0xc07fff]>\n",
      "//////\n",
      "<ELF Object fauxware, maps [0x400000:0x60105f]>\n"
     ]
    }
   ],
   "source": [
    "\"\"\" \n",
    "EL CLE loader representa un conglomerado de objetos binarios cargados y mapeados en un solo espacio de memoria.\n",
    "Cada objeto binario es cargado por el cargador backend de forma que este puede manejar este tipo de archivo.\n",
    "SE puede conseguir una lista de todos los objetos que el CLE tiene cargado con loader.all_objects\n",
    "\"\"\"\n",
    "\n",
    "#Todos los objetos cargados\n",
    "print(proj.loader.all_objects)\n",
    "\n",
    "print(\"//////\")\n",
    "\n",
    "#Este es el objeto \"main\", este es el unico que se especifica cuando se carga el proyecto.\n",
    "print(proj.loader.main_object)\n",
    "\n",
    "print(\"//////\")\n",
    "\n",
    "#Este es un diccionario armado desde los nombres de los objetos a los objetos. \n",
    "print(proj.loader.shared_objects)\n",
    "\n",
    "print(\"//////\")\n",
    "\n",
    "#Estos son todos los objetos que estan cargados desde archivos ELF\n",
    "#Si estamos usando un programa de windows hay que usar \"all_pe_objects\"\n",
    "print(proj.loader.all_elf_objects)\n",
    "\n",
    "print(\"//////\")\n",
    "\n",
    "#Estos son los objetos externos, se usa para conseguir direcciones de importaciones no resueltas e internas de angr\n",
    "print(proj.loader.extern_object)\n",
    "\n",
    "print(\"//////\")\n",
    "\n",
    "#Este objeto es usado para conseguir direcciones para syscalls emuladas\n",
    "print(proj.loader.kernel_object)\n",
    "\n",
    "print(\"//////\")\n",
    "\n",
    "#Tambien se puede conseguir la referencia a un objeto usando la dirección del mismo.\n",
    "print(proj.loader.find_object_containing(0x400000))"
   ]
  },
  {
   "cell_type": "code",
   "execution_count": 97,
   "id": "33f5646c-a01a-439a-b8ac-0944a8449820",
   "metadata": {},
   "outputs": [
    {
     "name": "stdout",
     "output_type": "stream",
     "text": [
      "4195712\n",
      "@@@@@@@@@@@@\n",
      "menor: 4194304 mayor: 6295647\n",
      "@@@@@@@@@@@@\n",
      "<Regions: [<ELFSegment flags=0x5, relro=0x0, vaddr=0x400000, memsize=0xa74, filesize=0xa74, offset=0x0>, <ELFSegment flags=0x4, relro=0x1, vaddr=0x600e28, memsize=0x1d8, filesize=0x1d8, offset=0xe28>, <ELFSegment flags=0x6, relro=0x0, vaddr=0x601000, memsize=0x60, filesize=0x50, offset=0x1000>]>\n",
      "<Regions: [<Unnamed | offset 0x0, vaddr 0x0, size 0x0>, <.interp | offset 0x238, vaddr 0x400238, size 0x1c>, <.note.ABI-tag | offset 0x254, vaddr 0x400254, size 0x20>, <.note.gnu.build-id | offset 0x274, vaddr 0x400274, size 0x24>, <.gnu.hash | offset 0x298, vaddr 0x400298, size 0x1c>, <.dynsym | offset 0x2b8, vaddr 0x4002b8, size 0xd8>, <.dynstr | offset 0x390, vaddr 0x400390, size 0x5a>, <.gnu.version | offset 0x3ea, vaddr 0x4003ea, size 0x12>, <.gnu.version_r | offset 0x400, vaddr 0x400400, size 0x20>, <.rela.dyn | offset 0x420, vaddr 0x400420, size 0x18>, <.rela.plt | offset 0x438, vaddr 0x400438, size 0xa8>, <.init | offset 0x4e0, vaddr 0x4004e0, size 0x18>, <.plt | offset 0x500, vaddr 0x400500, size 0x80>, <.text | offset 0x580, vaddr 0x400580, size 0x338>, <.fini | offset 0x8b8, vaddr 0x4008b8, size 0xe>, <.rodata | offset 0x8c8, vaddr 0x4008c8, size 0x63>, <.eh_frame_hdr | offset 0x92c, vaddr 0x40092c, size 0x44>, <.eh_frame | offset 0x970, vaddr 0x400970, size 0x104>, <.ctors | offset 0xe28, vaddr 0x600e28, size 0x10>, <.dtors | offset 0xe38, vaddr 0x600e38, size 0x10>, <.jcr | offset 0xe48, vaddr 0x600e48, size 0x8>, <.dynamic | offset 0xe50, vaddr 0x600e50, size 0x190>, <.got | offset 0xfe0, vaddr 0x600fe0, size 0x8>, <.got.plt | offset 0xfe8, vaddr 0x600fe8, size 0x50>, <.data | offset 0x1038, vaddr 0x601038, size 0x18>, <.bss | offset 0x1050, vaddr 0x601050, size 0x10>, <.comment | offset 0x1050, vaddr 0x0, size 0x2a>, <.shstrtab | offset 0x107a, vaddr 0x0, size 0xfe>, <.symtab | offset 0x18f8, vaddr 0x0, size 0x6d8>, <.strtab | offset 0x1fd0, vaddr 0x0, size 0x278>]>\n",
      "@@@@@@@@@@@@\n",
      "<ELFSegment flags=0x5, relro=0x0, vaddr=0x400000, memsize=0xa74, filesize=0xa74, offset=0x0>\n",
      "<.text | offset 0x580, vaddr 0x400580, size 0x338>\n",
      "@@@@@@@@@@@@\n",
      "4195664\n",
      "@@@@@@@@@@@@\n",
      "4194304\n",
      "4194304\n"
     ]
    }
   ],
   "source": [
    "\"\"\"\n",
    "Tambien puede extraerse la metadata de estos objetos\n",
    "\"\"\"\n",
    "\n",
    "obj = proj.loader.main_object\n",
    "\n",
    "#entry point del objeto\n",
    "print(obj.entry)\n",
    "\n",
    "print(\"@@@@@@@@@@@@\")\n",
    "\n",
    "#Menor y mayor dirección del objeto\n",
    "print(f\"menor: {obj.min_addr} mayor: {obj.max_addr}\")\n",
    "\n",
    "print(\"@@@@@@@@@@@@\")\n",
    "\n",
    "#Obtiene los segmentos y secciones ELF\n",
    "print(obj.segments)\n",
    "\n",
    "print(obj.sections)\n",
    "\n",
    "print(\"@@@@@@@@@@@@\")\n",
    "\n",
    "#Se puede obtener un solo segmento o seccion\n",
    "print(obj.find_segment_containing(obj.entry))\n",
    "print(obj.find_section_containing(obj.entry))\n",
    "\n",
    "print(\"@@@@@@@@@@@@\")\n",
    "\n",
    "#Get the address of the PLT stub for a symbol\n",
    "addr = obj.plt['strcmp']\n",
    "print(addr)\n",
    "obj.reverse_plt[addr]\n",
    "\n",
    "print(\"@@@@@@@@@@@@\")\n",
    "\n",
    "#Muestra el objeto base pre enlazado y la ubicacion que esta siendo actualmente mapeada en memoria por CLE\n",
    "print(obj.linked_base)\n",
    "print(obj.mapped_base)"
   ]
  },
  {
   "cell_type": "markdown",
   "id": "16814804-ddc7-49d7-8790-814c8e4cddba",
   "metadata": {
    "jp-MarkdownHeadingCollapsed": true
   },
   "source": [
    "<h1>Simbolos y realocaciones</h1>"
   ]
  },
  {
   "cell_type": "code",
   "execution_count": 98,
   "id": "e7bf78a4-770c-4cf9-a3b0-79bc57cdde86",
   "metadata": {},
   "outputs": [
    {
     "name": "stdout",
     "output_type": "stream",
     "text": [
      "<Symbol \"strcmp\" in libc.so.6 at 0x7a83f0>\n"
     ]
    }
   ],
   "source": [
    "\"\"\" \n",
    "Tambien se puede trabajar con simbolos usando CLE. Un simbolo es un concepto fundamental en los \n",
    "formatos ejecutables, estos mapean nombres a direcciones.\n",
    "\n",
    "La forma más facil de conseguir un simbolo del CLE es usar loader.find_symbol, que tomara un nombre\n",
    "o dirección para retornar el objeto.\n",
    "\"\"\"\n",
    "\n",
    "strcmp = proj.loader.find_symbol('strcmp')\n",
    "print(strcmp)"
   ]
  },
  {
   "cell_type": "code",
   "execution_count": 99,
   "id": "6655bc83-1dd0-4c61-8b42-591bc23a1526",
   "metadata": {},
   "outputs": [
    {
     "name": "stdout",
     "output_type": "stream",
     "text": [
      "strcmp\n",
      "<ELF Object libc.so.6, maps [0x700000:0x8f5e77]>\n",
      "8029168\n",
      "689136\n",
      "689136\n"
     ]
    }
   ],
   "source": [
    "\"\"\" \n",
    "De los atributos más importantes en un simbolo son su nombre, el dueño y la dirección. \n",
    "Aunque la dirección puede ser ambigua. Los objetos simbolos tienen tres formas de destacar la misma:\n",
    "    >.rebased_addr : la dirección en el esacio global de direcciones.\n",
    "    >.linked_addr : La dirección en el espacio pre-enlazado del binario\n",
    "    >.relative_addr: Dirección relativa del objeto base. \n",
    "\"\"\"\n",
    "\n",
    "print(strcmp.name)\n",
    "print(strcmp.owner)\n",
    "print(strcmp.rebased_addr)\n",
    "print(strcmp.linked_addr)\n",
    "print(strcmp.relative_addr)"
   ]
  },
  {
   "cell_type": "code",
   "execution_count": 105,
   "id": "2c08a97f-b9fe-4e0a-82a4-4acf2f838ef9",
   "metadata": {},
   "outputs": [
    {
     "name": "stdout",
     "output_type": "stream",
     "text": [
      "True\n",
      "False\n",
      "<Symbol \"strcmp\" in fauxware (import)>\n",
      "False\n",
      "True\n",
      "<Symbol \"strcmp\" in libc.so.6 at 0x7a83f0>\n"
     ]
    }
   ],
   "source": [
    "\"\"\" \n",
    "Tambien los simbolos soportan la nocion de linkeado dinamico. \n",
    "libc provee el simbolo strcmp como export. Y el binario main depende de este. \n",
    "Estas cosas pueden ser consultadas\n",
    "\"\"\" \n",
    "\n",
    "print(strcmp.is_export)\n",
    "print(strcmp.is_import)\n",
    "\n",
    "#On loader, the method is find_symbol because it performs a search operation to find the symbol.\n",
    "#On a individual object, the method is get_symbol because there can only be one symbol with a given name.\n",
    "\n",
    "main_strcmp = proj.loader.main_object.get_symbol('strcmp')\n",
    "print(main_strcmp)\n",
    "print(main_strcmp.is_export)\n",
    "print(main_strcmp.is_import)\n",
    "print(main_strcmp.resolvedby)"
   ]
  },
  {
   "cell_type": "code",
   "execution_count": 107,
   "id": "3c6c636e-9f3a-4bcc-9244-fde3a269fbff",
   "metadata": {},
   "outputs": [
    {
     "name": "stdout",
     "output_type": "stream",
     "text": [
      "{'_dl_argv': <cle.backends.elf.relocation.amd64.R_X86_64_GLOB_DAT object at 0x7f392030d340>, '__rseq_offset': <cle.backends.elf.relocation.amd64.R_X86_64_GLOB_DAT object at 0x7f392030e630>, '__libc_enable_secure': <cle.backends.elf.relocation.amd64.R_X86_64_GLOB_DAT object at 0x7f392030ef90>, '__libc_stack_end': <cle.backends.elf.relocation.amd64.R_X86_64_GLOB_DAT object at 0x7f392030fda0>, '_rtld_global_ro': <cle.backends.elf.relocation.amd64.R_X86_64_GLOB_DAT object at 0x7f392030e960>, '__rseq_size': <cle.backends.elf.relocation.amd64.R_X86_64_GLOB_DAT object at 0x7f391f88b560>, '_rtld_global': <cle.backends.elf.relocation.amd64.R_X86_64_64 object at 0x7f39229e6b10>, '_dl_find_dso_for_object': <cle.backends.elf.relocation.amd64.R_X86_64_JUMP_SLOT object at 0x7f39229e40b0>, '_dl_deallocate_tls': <cle.backends.elf.relocation.amd64.R_X86_64_JUMP_SLOT object at 0x7f3920206a50>, '__tls_get_addr': <cle.backends.elf.relocation.amd64.R_X86_64_JUMP_SLOT object at 0x7f39229e7fe0>, '_dl_signal_error': <cle.backends.elf.relocation.amd64.R_X86_64_JUMP_SLOT object at 0x7f39229e6db0>, '_dl_fatal_printf': <cle.backends.elf.relocation.amd64.R_X86_64_JUMP_SLOT object at 0x7f39229e6750>, '_dl_signal_exception': <cle.backends.elf.relocation.amd64.R_X86_64_JUMP_SLOT object at 0x7f39229e4b30>, '_dl_audit_symbind_alt': <cle.backends.elf.relocation.amd64.R_X86_64_JUMP_SLOT object at 0x7f39229e7b60>, '__tunable_is_initialized': <cle.backends.elf.relocation.amd64.R_X86_64_JUMP_SLOT object at 0x7f39229e4a70>, '_dl_rtld_di_serinfo': <cle.backends.elf.relocation.amd64.R_X86_64_JUMP_SLOT object at 0x7f39229e75f0>, '_dl_allocate_tls': <cle.backends.elf.relocation.amd64.R_X86_64_JUMP_SLOT object at 0x7f39229e5a60>, '__tunable_get_val': <cle.backends.elf.relocation.amd64.R_X86_64_JUMP_SLOT object at 0x7f39229e57c0>, '_dl_catch_exception': <cle.backends.elf.relocation.amd64.R_X86_64_JUMP_SLOT object at 0x7f39229e5e20>, '_dl_allocate_tls_init': <cle.backends.elf.relocation.amd64.R_X86_64_JUMP_SLOT object at 0x7f39229e5f70>, '_dl_audit_preinit': <cle.backends.elf.relocation.amd64.R_X86_64_JUMP_SLOT object at 0x7f39229e71d0>}\n"
     ]
    }
   ],
   "source": [
    "print(proj.loader.shared_objects['libc.so.6'].imports)"
   ]
  },
  {
   "cell_type": "markdown",
   "id": "731f5fd4-8cf1-42fa-94d9-1fd880d1fbb8",
   "metadata": {},
   "source": [
    "<h1>Opciones de carga</h1>"
   ]
  },
  {
   "cell_type": "code",
   "execution_count": null,
   "id": "17537b74-d1b2-43ba-8a04-418633281f7e",
   "metadata": {},
   "outputs": [],
   "source": []
  },
  {
   "cell_type": "code",
   "execution_count": null,
   "id": "3a16374f-50ed-45a7-903f-6dc610448b0f",
   "metadata": {},
   "outputs": [],
   "source": []
  }
 ],
 "metadata": {
  "kernelspec": {
   "display_name": "Python 3 (ipykernel)",
   "language": "python",
   "name": "python3"
  },
  "language_info": {
   "codemirror_mode": {
    "name": "ipython",
    "version": 3
   },
   "file_extension": ".py",
   "mimetype": "text/x-python",
   "name": "python",
   "nbconvert_exporter": "python",
   "pygments_lexer": "ipython3",
   "version": "3.12.6"
  }
 },
 "nbformat": 4,
 "nbformat_minor": 5
}
